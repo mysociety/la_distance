{
 "cells": [
  {
   "cell_type": "code",
   "execution_count": 1,
   "source": [
    "from notebook_helper import *\n",
    "import geopandas\n",
    "from helpers import space, la\n",
    "\n",
    "notebook_setup()"
   ],
   "outputs": [],
   "metadata": {}
  },
  {
   "cell_type": "markdown",
   "source": [
    "# Export normalised distances\n",
    "\n",
    "Get normalised grid distance between all councils."
   ],
   "metadata": {}
  },
  {
   "cell_type": "code",
   "execution_count": 2,
   "source": [
    "\n",
    "epsg = 7405 # british national grid\n",
    "\n",
    "gdf = geopandas.read_file(Path(\"data\", \"geo\", \"gb\", \"district_borough_unitary_region.shp\")).to_crs(epsg=epsg)\n",
    "gdf = gdf[[\"CODE\", \"geometry\"]]\n",
    "ni = geopandas.read_file(Path(\"data\", \"geo\", \"ni\", \"OSNI_Open_Data_Largescale_Boundaries__Local_Government_Districts_2012.shp\")).to_crs(epsg=epsg)\n",
    "ni = ni[[\"LGDCode\", \"geometry\"]].rename(columns={\"LGDCode\": \"CODE\"})\n",
    "gdf = pd.concat([gdf, ni])\n",
    "gdf[\"x\"] = gdf[\"geometry\"].centroid.x\n",
    "gdf[\"y\"] = gdf[\"geometry\"].centroid.y"
   ],
   "outputs": [],
   "metadata": {}
  },
  {
   "cell_type": "code",
   "execution_count": 4,
   "source": [
    "\n",
    "gdf = (gdf\n",
    "       .la.create_code_column(from_type=\"gss\", source_col=\"CODE\")\n",
    "       .drop(columns=[\"CODE\"])\n",
    "       )\n",
    "distance = (gdf\n",
    "            .space.self_distance(\"local-authority-code\", [\"x\", \"y\"], normalize=True)\n",
    "            .sort_values(\"distance\"))\n",
    "distance.to_csv(\n",
    "    Path(\"data\", \"outputs\", \"geographic_distance.csv\"), index=False)\n",
    "distance.head()\n"
   ],
   "outputs": [
    {
     "output_type": "execute_result",
     "data": {
      "text/plain": [
       "           CODE_A     CODE_B      distance\n",
       "131249  E09000020  E09000013  2.099896e+03\n",
       "130876  E09000013  E09000020  2.099896e+03\n",
       "131251  E09000020  E09000033  2.590818e+03\n",
       "131624  E09000033  E09000020  2.590818e+03\n",
       "132748  E09000019  E09000007  3.279809e+03\n",
       "...           ...        ...           ...\n",
       "50995   S12000027  E06000026  1.127744e+06\n",
       "49878   E06000052  S12000027  1.134221e+06\n",
       "50997   S12000027  E06000052  1.134221e+06\n",
       "50998   S12000027  E06000053  1.207212e+06\n",
       "50252   E06000053  S12000027  1.207212e+06\n",
       "\n",
       "[139502 rows x 3 columns]"
      ],
      "text/html": [
       "<div>\n",
       "<style scoped>\n",
       "    .dataframe tbody tr th:only-of-type {\n",
       "        vertical-align: middle;\n",
       "    }\n",
       "\n",
       "    .dataframe tbody tr th {\n",
       "        vertical-align: top;\n",
       "    }\n",
       "\n",
       "    .dataframe thead th {\n",
       "        text-align: right;\n",
       "    }\n",
       "</style>\n",
       "<table border=\"1\" class=\"dataframe\">\n",
       "  <thead>\n",
       "    <tr style=\"text-align: right;\">\n",
       "      <th></th>\n",
       "      <th>CODE_A</th>\n",
       "      <th>CODE_B</th>\n",
       "      <th>distance</th>\n",
       "    </tr>\n",
       "  </thead>\n",
       "  <tbody>\n",
       "    <tr>\n",
       "      <th>131249</th>\n",
       "      <td>E09000020</td>\n",
       "      <td>E09000013</td>\n",
       "      <td>2.099896e+03</td>\n",
       "    </tr>\n",
       "    <tr>\n",
       "      <th>130876</th>\n",
       "      <td>E09000013</td>\n",
       "      <td>E09000020</td>\n",
       "      <td>2.099896e+03</td>\n",
       "    </tr>\n",
       "    <tr>\n",
       "      <th>131251</th>\n",
       "      <td>E09000020</td>\n",
       "      <td>E09000033</td>\n",
       "      <td>2.590818e+03</td>\n",
       "    </tr>\n",
       "    <tr>\n",
       "      <th>131624</th>\n",
       "      <td>E09000033</td>\n",
       "      <td>E09000020</td>\n",
       "      <td>2.590818e+03</td>\n",
       "    </tr>\n",
       "    <tr>\n",
       "      <th>132748</th>\n",
       "      <td>E09000019</td>\n",
       "      <td>E09000007</td>\n",
       "      <td>3.279809e+03</td>\n",
       "    </tr>\n",
       "    <tr>\n",
       "      <th>...</th>\n",
       "      <td>...</td>\n",
       "      <td>...</td>\n",
       "      <td>...</td>\n",
       "    </tr>\n",
       "    <tr>\n",
       "      <th>50995</th>\n",
       "      <td>S12000027</td>\n",
       "      <td>E06000026</td>\n",
       "      <td>1.127744e+06</td>\n",
       "    </tr>\n",
       "    <tr>\n",
       "      <th>49878</th>\n",
       "      <td>E06000052</td>\n",
       "      <td>S12000027</td>\n",
       "      <td>1.134221e+06</td>\n",
       "    </tr>\n",
       "    <tr>\n",
       "      <th>50997</th>\n",
       "      <td>S12000027</td>\n",
       "      <td>E06000052</td>\n",
       "      <td>1.134221e+06</td>\n",
       "    </tr>\n",
       "    <tr>\n",
       "      <th>50998</th>\n",
       "      <td>S12000027</td>\n",
       "      <td>E06000053</td>\n",
       "      <td>1.207212e+06</td>\n",
       "    </tr>\n",
       "    <tr>\n",
       "      <th>50252</th>\n",
       "      <td>E06000053</td>\n",
       "      <td>S12000027</td>\n",
       "      <td>1.207212e+06</td>\n",
       "    </tr>\n",
       "  </tbody>\n",
       "</table>\n",
       "<p>139502 rows × 3 columns</p>\n",
       "</div>"
      ]
     },
     "metadata": {},
     "execution_count": 4
    }
   ],
   "metadata": {}
  }
 ],
 "metadata": {
  "orig_nbformat": 4,
  "language_info": {
   "name": "python",
   "version": "3.8.11",
   "mimetype": "text/x-python",
   "codemirror_mode": {
    "name": "ipython",
    "version": 3
   },
   "pygments_lexer": "ipython3",
   "nbconvert_exporter": "python",
   "file_extension": ".py"
  },
  "kernelspec": {
   "name": "python3",
   "display_name": "Python 3.8.11 64-bit"
  },
  "interpreter": {
   "hash": "4cd7ab41f5fca4b9b44701077e38c5ffd31fe66a6cab21e0214b68d958d0e462"
  }
 },
 "nbformat": 4,
 "nbformat_minor": 2
}