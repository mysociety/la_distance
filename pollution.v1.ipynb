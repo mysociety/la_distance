{
 "cells": [
  {
   "cell_type": "code",
   "execution_count": 1,
   "source": [
    "from notebook_helper import *\n",
    "from helpers import la, space, viz\n",
    "notebook_setup()\n",
    "from matplotlib.axes._axes import _log as matplotlib_axes_logger\n",
    "matplotlib_axes_logger.setLevel('ERROR')"
   ],
   "outputs": [],
   "metadata": {}
  },
  {
   "cell_type": "markdown",
   "source": [
    "# Pollution cluster analysis\n",
    "\n",
    "The goal of this analysis is to use BEIS measures of the emissions under a local authorities control (the subset dataset) to:\n",
    "\n",
    "1. Determine for each council which other councils are most similar. \n",
    "2. Group councils into clusters that explain broadly the problem of their emissions and why they are similar. \n",
    "\n",
    "This first attempt uses as dimensions the five grand totals for Industry, Commerical, Domestic, Public Sector, Transport.  \n",
    "\n",
    "The data is conformed to the current 2021 local authorities, and reduced to just principal authorities.\n",
    "\n",
    "Although the data has some higher level authorities, their totals are then recreated using the sum of their constituent parts. \n",
    "\n",
    "All authorities are then divided by the 2020 population to get a per capita figure. Go back and forth on if this is a good idea, but essentally lets us isolate the question of 'big' authorities for a seperate comparison system. "
   ],
   "metadata": {}
  },
  {
   "cell_type": "code",
   "execution_count": 2,
   "source": [
    "data_year = 2019\n",
    "\n",
    "df = pd.read_excel(Path(\"data\", \"2005-19_UK_local_and_regional_CO2_emissions.xlsx\"),\n",
    "                   sheet_name=\"Subset dataset\", header=1)\n",
    "df = df.loc[df[\"Year\"] == data_year].loc[~df[\"Code\"].isna()]\n",
    "\n",
    "used_cols = [\"Industry Total\", \"Commercial Total\", \"Domestic Total\", \"Public Sector Total\", \"Transport Total\"]\n",
    "\n",
    "df = df[[\"Code\"] + used_cols]\n",
    "\n",
    "# transform to principal modern councils\n",
    "df = (df\n",
    "      .la.create_code_column(from_type=\"gss\", source_col=\"Code\")\n",
    "      .drop(columns=[\"Code\"])\n",
    "      .la.to_current()\n",
    "      .la.just_principals())\n",
    "\n",
    "higher_df = df.la.to_higher(aggfunc=\"sum\")\n",
    "\n",
    "df = pd.concat([df, higher_df])\n",
    "\n",
    "original_df = df.copy()\n",
    "\n",
    "df = df.la.get_council_info([\"region\", \"pop_2020\"])\n",
    "\n",
    "#convert to per capita emissions\n",
    "for c in used_cols:\n",
    "      df[c] = (df[c]/df[\"pop_2020\"])*100\n",
    "\n",
    "df = df.drop(columns=[\"pop_2020\"])\n",
    "df[\"region\"] = df[\"region\"].fillna(\"Unknown\")\n",
    "df = df.set_index(\"local-authority-code\")\n",
    "df.head()"
   ],
   "outputs": [
    {
     "output_type": "execute_result",
     "data": {
      "text/plain": [
       "                      Industry Total  Commercial Total  Domestic Total  \\\n",
       "local-authority-code                                                     \n",
       "ABC                         0.202964          0.018739        0.176830   \n",
       "ABD                         0.118983          0.037371        0.184972   \n",
       "ABE                         0.066342          0.067903        0.149283   \n",
       "ADU                         0.029168          0.023936        0.126134   \n",
       "AGB                         0.126624          0.052611        0.188899   \n",
       "\n",
       "                      Public Sector Total  Transport Total            region  \n",
       "local-authority-code                                                          \n",
       "ABC                              0.004395         0.201933  Northern Ireland  \n",
       "ABD                              0.008194         0.240239          Scotland  \n",
       "ABE                              0.042369         0.142631          Scotland  \n",
       "ADU                              0.006697         0.145878        South East  \n",
       "AGB                              0.018173         0.213968          Scotland  "
      ],
      "text/html": [
       "<div>\n",
       "<style scoped>\n",
       "    .dataframe tbody tr th:only-of-type {\n",
       "        vertical-align: middle;\n",
       "    }\n",
       "\n",
       "    .dataframe tbody tr th {\n",
       "        vertical-align: top;\n",
       "    }\n",
       "\n",
       "    .dataframe thead th {\n",
       "        text-align: right;\n",
       "    }\n",
       "</style>\n",
       "<table border=\"1\" class=\"dataframe\">\n",
       "  <thead>\n",
       "    <tr style=\"text-align: right;\">\n",
       "      <th></th>\n",
       "      <th>Industry Total</th>\n",
       "      <th>Commercial Total</th>\n",
       "      <th>Domestic Total</th>\n",
       "      <th>Public Sector Total</th>\n",
       "      <th>Transport Total</th>\n",
       "      <th>region</th>\n",
       "    </tr>\n",
       "    <tr>\n",
       "      <th>local-authority-code</th>\n",
       "      <th></th>\n",
       "      <th></th>\n",
       "      <th></th>\n",
       "      <th></th>\n",
       "      <th></th>\n",
       "      <th></th>\n",
       "    </tr>\n",
       "  </thead>\n",
       "  <tbody>\n",
       "    <tr>\n",
       "      <th>ABC</th>\n",
       "      <td>0.202964</td>\n",
       "      <td>0.018739</td>\n",
       "      <td>0.176830</td>\n",
       "      <td>0.004395</td>\n",
       "      <td>0.201933</td>\n",
       "      <td>Northern Ireland</td>\n",
       "    </tr>\n",
       "    <tr>\n",
       "      <th>ABD</th>\n",
       "      <td>0.118983</td>\n",
       "      <td>0.037371</td>\n",
       "      <td>0.184972</td>\n",
       "      <td>0.008194</td>\n",
       "      <td>0.240239</td>\n",
       "      <td>Scotland</td>\n",
       "    </tr>\n",
       "    <tr>\n",
       "      <th>ABE</th>\n",
       "      <td>0.066342</td>\n",
       "      <td>0.067903</td>\n",
       "      <td>0.149283</td>\n",
       "      <td>0.042369</td>\n",
       "      <td>0.142631</td>\n",
       "      <td>Scotland</td>\n",
       "    </tr>\n",
       "    <tr>\n",
       "      <th>ADU</th>\n",
       "      <td>0.029168</td>\n",
       "      <td>0.023936</td>\n",
       "      <td>0.126134</td>\n",
       "      <td>0.006697</td>\n",
       "      <td>0.145878</td>\n",
       "      <td>South East</td>\n",
       "    </tr>\n",
       "    <tr>\n",
       "      <th>AGB</th>\n",
       "      <td>0.126624</td>\n",
       "      <td>0.052611</td>\n",
       "      <td>0.188899</td>\n",
       "      <td>0.018173</td>\n",
       "      <td>0.213968</td>\n",
       "      <td>Scotland</td>\n",
       "    </tr>\n",
       "  </tbody>\n",
       "</table>\n",
       "</div>"
      ]
     },
     "metadata": {},
     "execution_count": 2
    }
   ],
   "metadata": {}
  },
  {
   "cell_type": "markdown",
   "source": [
    "## Comparsions to physical distance\n",
    "\n",
    "Comparing the distance between all councils (where the input variables are normalised so there is a mean of 0 and a SD of 1) to the physical distance between councils there is very little agreement on the closest councils. \n",
    "\n",
    "The table below shows the agreement between councils in a top k comparison (where k = 1 is the nearest council, k = 10 is the nearest 10 councils). There is on average only a 11% agreement in the top 25 councils. "
   ],
   "metadata": {}
  },
  {
   "cell_type": "code",
   "execution_count": 3,
   "source": [
    "relevant_cols = [\"Industry Total\", \"Commercial Total\", \"Domestic Total\", \"Public Sector Total\", \"Transport Total\"]\n",
    "pol_distance = df.space.self_distance(\"local-authority-code\", relevant_cols, normalize=True)\n",
    "\n",
    "pol_distance.to_csv(Path(\"data\",\"outputs\",\"council_clusters_v1_distance.csv\"), index=False)\n",
    "\n",
    "real_distance = pd.read_csv(Path(\"data\", \"outputs\", \"geographic_distance.csv\" ))\n",
    "\n",
    "jd = space.join_distance({\"pollution_distance\": pol_distance,\n",
    "                         \"real_distance\": real_distance})\n",
    "jd.joint_space.agreement()\n"
   ],
   "outputs": [
    {
     "output_type": "execute_result",
     "data": {
      "text/plain": [
       "   top_k  agreement\n",
       "0      1       0.01\n",
       "1      2       0.02\n",
       "2      3       0.03\n",
       "3      5       0.04\n",
       "4     10       0.06\n",
       "5     25       0.11"
      ],
      "text/html": [
       "<div>\n",
       "<style scoped>\n",
       "    .dataframe tbody tr th:only-of-type {\n",
       "        vertical-align: middle;\n",
       "    }\n",
       "\n",
       "    .dataframe tbody tr th {\n",
       "        vertical-align: top;\n",
       "    }\n",
       "\n",
       "    .dataframe thead th {\n",
       "        text-align: right;\n",
       "    }\n",
       "</style>\n",
       "<table border=\"1\" class=\"dataframe\">\n",
       "  <thead>\n",
       "    <tr style=\"text-align: right;\">\n",
       "      <th></th>\n",
       "      <th>top_k</th>\n",
       "      <th>agreement</th>\n",
       "    </tr>\n",
       "  </thead>\n",
       "  <tbody>\n",
       "    <tr>\n",
       "      <th>0</th>\n",
       "      <td>1</td>\n",
       "      <td>0.01</td>\n",
       "    </tr>\n",
       "    <tr>\n",
       "      <th>1</th>\n",
       "      <td>2</td>\n",
       "      <td>0.02</td>\n",
       "    </tr>\n",
       "    <tr>\n",
       "      <th>2</th>\n",
       "      <td>3</td>\n",
       "      <td>0.03</td>\n",
       "    </tr>\n",
       "    <tr>\n",
       "      <th>3</th>\n",
       "      <td>5</td>\n",
       "      <td>0.04</td>\n",
       "    </tr>\n",
       "    <tr>\n",
       "      <th>4</th>\n",
       "      <td>10</td>\n",
       "      <td>0.06</td>\n",
       "    </tr>\n",
       "    <tr>\n",
       "      <th>5</th>\n",
       "      <td>25</td>\n",
       "      <td>0.11</td>\n",
       "    </tr>\n",
       "  </tbody>\n",
       "</table>\n",
       "</div>"
      ]
     },
     "metadata": {},
     "execution_count": 3
    }
   ],
   "metadata": {}
  },
  {
   "cell_type": "code",
   "execution_count": 4,
   "source": [
    "plot = jd.joint_space.plot(sample=1000, title=\"1000 samples of distances between authorities\")"
   ],
   "outputs": [
    {
     "output_type": "display_data",
     "data": {
      "text/plain": [
       "<Figure size 720x360 with 1 Axes>"
      ],
      "image/png": "[encoded data removed]"
     },
     "metadata": {}
    }
   ],
   "metadata": {}
  },
  {
   "cell_type": "markdown",
   "source": [
    "There is Similar dispersal of distances, but no clear pattern (although not many far away, and *also* similar pollution).\n",
    "Remember all the coordinates were normalised before use, so this is *distance* between spaces on normalised dimensions. \n",
    "This also shows that some councils can have quite a high pollution distance, but be very *close*. This validates the general approach of exploring alternatives to distance. \n"
   ],
   "metadata": {}
  },
  {
   "cell_type": "markdown",
   "source": [
    "## Clustering\n",
    "\n",
    "Using k means clustering, this section tries to group local authorities into a set of clusters of different profiles of emissions. \n",
    "\n",
    "Because this has been adjusted per capita, the City of London gets very high numbers, and so fits badly into other clusters. It is dropped from these purposes (or can be said to be a cluster of 1). "
   ],
   "metadata": {}
  },
  {
   "cell_type": "code",
   "execution_count": 5,
   "source": [
    "# drop london because it ends up on its own anyway and distorts the scores\n",
    "cdf = df.drop(index=[\"LND\"]).reset_index()\n",
    "cluster = space.Cluster(cdf, \"local-authority-code\", cols = relevant_cols, label_cols=[\"region\"], normalize=True)\n",
    "cluster.find_k(2,15)"
   ],
   "outputs": [
    {
     "output_type": "display_data",
     "data": {
      "text/plain": [
       "<Figure size 720x360 with 2 Axes>"
      ],
      "image/png": "[encoded data removed]"
     },
     "metadata": {}
    }
   ],
   "metadata": {}
  },
  {
   "cell_type": "markdown",
   "source": [
    "# Chosing 6 clusters \n",
    "\n",
    "The relatively slow decent reflects that there is not clear clusters in the data, cloosing 6 as a high point in the silhouette score."
   ],
   "metadata": {}
  },
  {
   "cell_type": "code",
   "execution_count": 6,
   "source": [
    "# Choosing 6 clusters, but in general this isn't that much different. Data is not clearly clustered.\n",
    "cluster.set_k(6)\n",
    "\n",
    "nice_name_lookup = la.get_la_df().set_index(\"local-authority-code\")[\"official-name\"].to_dict()\n",
    "stats = cluster.stats(label_lookup=nice_name_lookup)\n",
    "stats"
   ],
   "outputs": [
    {
     "output_type": "execute_result",
     "data": {
      "text/plain": [
       "        count     %                                     random members\n",
       "labels                                                                \n",
       "1         122  30.1  [East Lothian Council, East Riding of Yorkshir...\n",
       "2         165  40.7  [London Borough of Croydon, Midlothian Council...\n",
       "3          43  10.6  [North Ayrshire Council, Comhairle nan Eilean ...\n",
       "4           7   1.7  [London Borough of Camden, City of Westminster...\n",
       "5           2   0.5  [Warwickshire County Council, Gloucestershire ...\n",
       "6          66  16.3  [Liverpool City Council, City of Cardiff Counc..."
      ],
      "text/html": [
       "<div>\n",
       "<style scoped>\n",
       "    .dataframe tbody tr th:only-of-type {\n",
       "        vertical-align: middle;\n",
       "    }\n",
       "\n",
       "    .dataframe tbody tr th {\n",
       "        vertical-align: top;\n",
       "    }\n",
       "\n",
       "    .dataframe thead th {\n",
       "        text-align: right;\n",
       "    }\n",
       "</style>\n",
       "<table border=\"1\" class=\"dataframe\">\n",
       "  <thead>\n",
       "    <tr style=\"text-align: right;\">\n",
       "      <th></th>\n",
       "      <th>count</th>\n",
       "      <th>%</th>\n",
       "      <th>random members</th>\n",
       "    </tr>\n",
       "    <tr>\n",
       "      <th>labels</th>\n",
       "      <th></th>\n",
       "      <th></th>\n",
       "      <th></th>\n",
       "    </tr>\n",
       "  </thead>\n",
       "  <tbody>\n",
       "    <tr>\n",
       "      <th>1</th>\n",
       "      <td>122</td>\n",
       "      <td>30.1</td>\n",
       "      <td>[East Lothian Council, East Riding of Yorkshir...</td>\n",
       "    </tr>\n",
       "    <tr>\n",
       "      <th>2</th>\n",
       "      <td>165</td>\n",
       "      <td>40.7</td>\n",
       "      <td>[London Borough of Croydon, Midlothian Council...</td>\n",
       "    </tr>\n",
       "    <tr>\n",
       "      <th>3</th>\n",
       "      <td>43</td>\n",
       "      <td>10.6</td>\n",
       "      <td>[North Ayrshire Council, Comhairle nan Eilean ...</td>\n",
       "    </tr>\n",
       "    <tr>\n",
       "      <th>4</th>\n",
       "      <td>7</td>\n",
       "      <td>1.7</td>\n",
       "      <td>[London Borough of Camden, City of Westminster...</td>\n",
       "    </tr>\n",
       "    <tr>\n",
       "      <th>5</th>\n",
       "      <td>2</td>\n",
       "      <td>0.5</td>\n",
       "      <td>[Warwickshire County Council, Gloucestershire ...</td>\n",
       "    </tr>\n",
       "    <tr>\n",
       "      <th>6</th>\n",
       "      <td>66</td>\n",
       "      <td>16.3</td>\n",
       "      <td>[Liverpool City Council, City of Cardiff Counc...</td>\n",
       "    </tr>\n",
       "  </tbody>\n",
       "</table>\n",
       "</div>"
      ]
     },
     "metadata": {},
     "execution_count": 6
    }
   ],
   "metadata": {}
  },
  {
   "cell_type": "markdown",
   "source": [
    "Broadly, this splits the data into three 'Mainstream' categories, and three 'Outlier' categories. Where the majority are in the mainstream categories, and the outliers are generally better defined (but much smaller) clustesr. \n",
    "\n",
    "Using the label and raincloud tool, descriptions were created of how these labels relate to the variables being grouped. "
   ],
   "metadata": {}
  },
  {
   "cell_type": "code",
   "execution_count": 7,
   "source": [
    "# examine variables individually\n",
    "cluster.raincloud_tool()"
   ],
   "outputs": [
    {
     "output_type": "display_data",
     "data": {
      "text/plain": [
       "interactive(children=(Dropdown(description='variable', options=('Industry Total', 'Commercial Total', 'Domesti…"
      ],
      "application/vnd.jupyter.widget-view+json": {
       "version_major": 2,
       "version_minor": 0,
       "model_id": "98653046414f430cb10bfad470f55bbe"
      }
     },
     "metadata": {}
    }
   ],
   "metadata": {}
  },
  {
   "cell_type": "code",
   "execution_count": 8,
   "source": [
    "cluster.label_tool()"
   ],
   "outputs": [
    {
     "output_type": "display_data",
     "data": {
      "text/plain": [
       "interactive(children=(Dropdown(description='cluster', options=(1, 2, 3, 4, 5, 6), value=1), Dropdown(descripti…"
      ],
      "application/vnd.jupyter.widget-view+json": {
       "version_major": 2,
       "version_minor": 0,
       "model_id": "2b3d8806960e4f0a8e989ccb18ee9fd2"
      }
     },
     "metadata": {}
    }
   ],
   "metadata": {}
  },
  {
   "cell_type": "code",
   "execution_count": 9,
   "source": [
    "cluster.assign_name(n=1, name=\"Mainstream B\", desc=\"Above average industry/transport/domestic\")\n",
    "cluster.assign_name(n=2, name=\"Mainstream A\", desc=\"Below average commerical/industry/transport/domestic\")\n",
    "cluster.assign_name(n=3, name=\"Outlier A\", desc=\"Above average transport, industry, domestic\")\n",
    "cluster.assign_name(n=4, name=\"Outlier B\", desc=\"Above average commerical/public sector\")\n",
    "cluster.assign_name(n=5, name=\"Outlier C\", desc=\"Very above average domestic and transport\")\n",
    "cluster.assign_name(n=6, name=\"Mainstream C\", desc=\"Above average commerical/public sector, below average transport/domestic\")\n",
    "cluster.stats(label_lookup=nice_name_lookup)"
   ],
   "outputs": [
    {
     "output_type": "execute_result",
     "data": {
      "text/plain": [
       "                 count     %  \\\n",
       "labels                         \n",
       "1: Mainstream B    122  30.1   \n",
       "2: Mainstream A    165  40.7   \n",
       "3: Outlier A        43  10.6   \n",
       "4: Outlier B         7   1.7   \n",
       "5: Outlier C         2   0.5   \n",
       "6: Mainstream C     66  16.3   \n",
       "\n",
       "                                                    random members  \n",
       "labels                                                              \n",
       "1: Mainstream B  [Wychavon District Council, North Devon Distri...  \n",
       "2: Mainstream A  [Blaenau Gwent County Borough Council, Erewash...  \n",
       "3: Outlier A     [Powys County Council, Ribble Valley Borough C...  \n",
       "4: Outlier B     [Clackmannanshire Council, Cambridge City Coun...  \n",
       "5: Outlier C     [Warwickshire County Council, Gloucestershire ...  \n",
       "6: Mainstream C  [Preston City Council, Trafford Metropolitan B...  "
      ],
      "text/html": [
       "<div>\n",
       "<style scoped>\n",
       "    .dataframe tbody tr th:only-of-type {\n",
       "        vertical-align: middle;\n",
       "    }\n",
       "\n",
       "    .dataframe tbody tr th {\n",
       "        vertical-align: top;\n",
       "    }\n",
       "\n",
       "    .dataframe thead th {\n",
       "        text-align: right;\n",
       "    }\n",
       "</style>\n",
       "<table border=\"1\" class=\"dataframe\">\n",
       "  <thead>\n",
       "    <tr style=\"text-align: right;\">\n",
       "      <th></th>\n",
       "      <th>count</th>\n",
       "      <th>%</th>\n",
       "      <th>random members</th>\n",
       "    </tr>\n",
       "    <tr>\n",
       "      <th>labels</th>\n",
       "      <th></th>\n",
       "      <th></th>\n",
       "      <th></th>\n",
       "    </tr>\n",
       "  </thead>\n",
       "  <tbody>\n",
       "    <tr>\n",
       "      <th>1: Mainstream B</th>\n",
       "      <td>122</td>\n",
       "      <td>30.1</td>\n",
       "      <td>[Wychavon District Council, North Devon Distri...</td>\n",
       "    </tr>\n",
       "    <tr>\n",
       "      <th>2: Mainstream A</th>\n",
       "      <td>165</td>\n",
       "      <td>40.7</td>\n",
       "      <td>[Blaenau Gwent County Borough Council, Erewash...</td>\n",
       "    </tr>\n",
       "    <tr>\n",
       "      <th>3: Outlier A</th>\n",
       "      <td>43</td>\n",
       "      <td>10.6</td>\n",
       "      <td>[Powys County Council, Ribble Valley Borough C...</td>\n",
       "    </tr>\n",
       "    <tr>\n",
       "      <th>4: Outlier B</th>\n",
       "      <td>7</td>\n",
       "      <td>1.7</td>\n",
       "      <td>[Clackmannanshire Council, Cambridge City Coun...</td>\n",
       "    </tr>\n",
       "    <tr>\n",
       "      <th>5: Outlier C</th>\n",
       "      <td>2</td>\n",
       "      <td>0.5</td>\n",
       "      <td>[Warwickshire County Council, Gloucestershire ...</td>\n",
       "    </tr>\n",
       "    <tr>\n",
       "      <th>6: Mainstream C</th>\n",
       "      <td>66</td>\n",
       "      <td>16.3</td>\n",
       "      <td>[Preston City Council, Trafford Metropolitan B...</td>\n",
       "    </tr>\n",
       "  </tbody>\n",
       "</table>\n",
       "</div>"
      ]
     },
     "metadata": {},
     "execution_count": 9
    }
   ],
   "metadata": {}
  },
  {
   "cell_type": "code",
   "execution_count": 13,
   "source": [
    "#export with pre per-capita numbers\n",
    "\n",
    "ldf = cluster.df_with_labels().set_index(\"local-authority-code\")\n",
    "ldf = ldf[[\"label\", \"label_desc\"]]\n",
    "ndf = original_df.copy().set_index(\"local-authority-code\")\n",
    "ndf = ndf.join(ldf, how=\"left\").reset_index()\n",
    "ndf = ndf.la.get_council_info([\"official-name\", \"local-authority-type-name\"])\n",
    "ndf.to_csv(Path(\"data\", \"outputs\", \"council_clusters_v1.csv\"), index=False)"
   ],
   "outputs": [],
   "metadata": {}
  },
  {
   "cell_type": "markdown",
   "source": [
    "## Is there any benefit to increasing the number of variables?\n",
    "\n",
    "The `pollution.ks` notebook explores using *all* the sub-variables. Broadly this produces a set of coherent clusters, but still has the same gradual decline and puts most councils in a single mainstream category. The approach in this notebook is preferable for the moment. "
   ],
   "metadata": {}
  }
 ],
 "metadata": {
  "orig_nbformat": 4,
  "language_info": {
   "name": "python",
   "version": "3.8.11",
   "mimetype": "text/x-python",
   "codemirror_mode": {
    "name": "ipython",
    "version": 3
   },
   "pygments_lexer": "ipython3",
   "nbconvert_exporter": "python",
   "file_extension": ".py"
  },
  "kernelspec": {
   "name": "python3",
   "display_name": "Python 3.8.11 64-bit"
  },
  "interpreter": {
   "hash": "4cd7ab41f5fca4b9b44701077e38c5ffd31fe66a6cab21e0214b68d958d0e462"
  }
 },
 "nbformat": 4,
 "nbformat_minor": 2
}