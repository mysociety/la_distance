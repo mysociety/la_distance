{
 "cells": [
  {
   "cell_type": "code",
   "execution_count": 1,
   "metadata": {},
   "outputs": [],
   "source": [
    "#HIDE\n",
    "try:\n",
    "    import setup\n",
    "except:\n",
    "    pass\n",
    "from notebook_helper import *\n",
    "notebook_setup()\n",
    "\n",
    "import geopandas\n",
    "from modules import la"
   ]
  },
  {
   "cell_type": "markdown",
   "metadata": {},
   "source": [
    "# Center points\n",
    "\n",
    "This notebook extracts the center points of local authorities from shapefiles and creates the center points for higher level authorities."
   ]
  },
  {
   "cell_type": "code",
   "execution_count": 2,
   "metadata": {},
   "outputs": [],
   "source": [
    "# load local authorities\n",
    "\n",
    "epsg = 7405 # british national grid\n",
    "\n",
    "gdf = geopandas.read_file(Path(\"data\", \"geo\", \"gb\", \"district_borough_unitary_region.shp\")).to_crs(epsg=epsg)\n",
    "gdf = gdf[[\"CODE\", \"geometry\"]]\n",
    "ni = geopandas.read_file(Path(\"data\", \"geo\", \"ni\", \"OSNI_Open_Data_Largescale_Boundaries__Local_Government_Districts_2012.shp\")).to_crs(epsg=epsg)\n",
    "ni = ni[[\"LGDCode\", \"geometry\"]].rename(columns={\"LGDCode\": \"CODE\"})\n",
    "gdf = pd.concat([gdf, ni])\n",
    "gdf[\"x\"] = gdf[\"geometry\"].centroid.x\n",
    "gdf[\"y\"] = gdf[\"geometry\"].centroid.y"
   ]
  },
  {
   "cell_type": "code",
   "execution_count": 3,
   "metadata": {},
   "outputs": [],
   "source": [
    "gdf = gdf.la.create_code_column(from_type=\"gss\")"
   ]
  },
  {
   "cell_type": "code",
   "execution_count": 7,
   "metadata": {},
   "outputs": [
    {
     "name": "stderr",
     "output_type": "stream",
     "text": [
      "/usr/local/lib/python3.8/site-packages/geopandas/array.py:275: ShapelyDeprecationWarning: The array interface is deprecated and will no longer work in Shapely 2.0. Convert the '.coords' to a numpy array instead.\n",
      "  return GeometryArray(vectorized.points_from_xy(x, y, z), crs=crs)\n"
     ]
    }
   ],
   "source": [
    "def group_to_current_and_higher(df, cols) -> pd.DataFrame:\n",
    "    df1 = df.la.to_current(cols, aggfunc=\"mean\")\n",
    "    df2 = df.la.to_multiple_higher(cols, aggfunc=\"mean\")\n",
    "    return pd.concat([df1, df2])\n",
    "\n",
    "df = group_to_current_and_higher(gdf, [\"x\", \"y\"])\n",
    "\n",
    "df = geopandas.GeoDataFrame(df, geometry=geopandas.points_from_xy(df.x, df.y), crs=epsg).to_crs(\"WGS84\")\n",
    "df.transform()\n",
    "df[\"long\"] = df[\"geometry\"].y\n",
    "df[\"lat\"] = df[\"geometry\"].x\n",
    "df.drop(columns='geometry').to_csv(Path(\"data\",\"la_xy.csv\"), index=False)\n"
   ]
  }
 ],
 "metadata": {
  "interpreter": {
   "hash": "4cd7ab41f5fca4b9b44701077e38c5ffd31fe66a6cab21e0214b68d958d0e462"
  },
  "kernelspec": {
   "display_name": "Python 3.8.11 64-bit",
   "name": "python3"
  },
  "language_info": {
   "codemirror_mode": {
    "name": "ipython",
    "version": 3
   },
   "file_extension": ".py",
   "mimetype": "text/x-python",
   "name": "python",
   "nbconvert_exporter": "python",
   "pygments_lexer": "ipython3",
   "version": "3.8.12"
  },
  "orig_nbformat": 4
 },
 "nbformat": 4,
 "nbformat_minor": 2
}
