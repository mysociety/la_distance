{
 "cells": [
  {
   "cell_type": "code",
   "execution_count": 1,
   "metadata": {},
   "outputs": [],
   "source": [
    "#HIDE\n",
    "try:\n",
    "    import setup\n",
    "except:\n",
    "    pass\n",
    "from notebook_helper import *\n",
    "notebook_setup()\n",
    "from modules import la"
   ]
  },
  {
   "cell_type": "markdown",
   "metadata": {},
   "source": [
    "# Comparison between sets\n",
    "\n",
    "This notebook shows the correlation in the top ten lists between areas."
   ]
  },
  {
   "cell_type": "code",
   "execution_count": 2,
   "metadata": {},
   "outputs": [],
   "source": [
    "files = {\"geographic\": Path(\"data\", \"outputs\", \"geographic_distance\", \"complete_distance_map.csv\"),\n",
    "         \"emissions\": Path(\"data\", \"outputs\", \"emissions\", \"distance_map.csv\"),\n",
    "         \"imd\": Path(\"data\", \"outputs\", \"imd\", \"distance_map.csv\"),\n",
    "         \"ruc\": Path(\"data\", \"outputs\", \"ruc\", \"distance_map.csv\"),\n",
    "         \"composite\": Path(\"data\", \"outputs\", \"composite\", \"distance_map.csv\")}\n",
    "\n",
    "files = {x:pd.read_csv(y) for x,y in files.items()}"
   ]
  },
  {
   "cell_type": "code",
   "execution_count": 3,
   "metadata": {},
   "outputs": [],
   "source": [
    "\n",
    "df = pd.DataFrame(columns=[\"measure_a\", \"measure_b\",\"agreement\"])\n",
    "\n",
    "for label1, df1 in files.items():\n",
    "    for label2, df2 in files.items():\n",
    "        jd = df1.space.join_distance(df2)\n",
    "        agreement = jd.joint_space.agreement(ks=[10])\n",
    "        top10 = agreement.common.to_map(\"top_k\", \"agreement\")[10]\n",
    "        df = df.append({\"measure_a\":label1, \"measure_b\":label2, \"agreement\":top10}, ignore_index=True)\n",
    "\n"
   ]
  },
  {
   "cell_type": "code",
   "execution_count": 4,
   "metadata": {},
   "outputs": [
    {
     "data": {
      "text/html": [
       "<style  type=\"text/css\" >\n",
       "</style><table id=\"T_f9148_\" ><thead>    <tr>        <th class=\"index_name level0\" >measure_b</th>        <th class=\"col_heading level0 col0\" >composite</th>        <th class=\"col_heading level0 col1\" >emissions</th>        <th class=\"col_heading level0 col2\" >geographic</th>        <th class=\"col_heading level0 col3\" >imd</th>        <th class=\"col_heading level0 col4\" >ruc</th>    </tr>    <tr>        <th class=\"index_name level0\" >measure_a</th>        <th class=\"blank\" ></th>        <th class=\"blank\" ></th>        <th class=\"blank\" ></th>        <th class=\"blank\" ></th>        <th class=\"blank\" ></th>    </tr></thead><tbody>\n",
       "                <tr>\n",
       "                        <th id=\"T_f9148_level0_row0\" class=\"row_heading level0 row0\" >composite</th>\n",
       "                        <td id=\"T_f9148_row0_col0\" class=\"data row0 col0\" >100%</td>\n",
       "                        <td id=\"T_f9148_row0_col1\" class=\"data row0 col1\" >30%</td>\n",
       "                        <td id=\"T_f9148_row0_col2\" class=\"data row0 col2\" >18%</td>\n",
       "                        <td id=\"T_f9148_row0_col3\" class=\"data row0 col3\" >24%</td>\n",
       "                        <td id=\"T_f9148_row0_col4\" class=\"data row0 col4\" >16%</td>\n",
       "            </tr>\n",
       "            <tr>\n",
       "                        <th id=\"T_f9148_level0_row1\" class=\"row_heading level0 row1\" >emissions</th>\n",
       "                        <td id=\"T_f9148_row1_col0\" class=\"data row1 col0\" >30%</td>\n",
       "                        <td id=\"T_f9148_row1_col1\" class=\"data row1 col1\" >100%</td>\n",
       "                        <td id=\"T_f9148_row1_col2\" class=\"data row1 col2\" >8%</td>\n",
       "                        <td id=\"T_f9148_row1_col3\" class=\"data row1 col3\" >8%</td>\n",
       "                        <td id=\"T_f9148_row1_col4\" class=\"data row1 col4\" >8%</td>\n",
       "            </tr>\n",
       "            <tr>\n",
       "                        <th id=\"T_f9148_level0_row2\" class=\"row_heading level0 row2\" >geographic</th>\n",
       "                        <td id=\"T_f9148_row2_col0\" class=\"data row2 col0\" >18%</td>\n",
       "                        <td id=\"T_f9148_row2_col1\" class=\"data row2 col1\" >8%</td>\n",
       "                        <td id=\"T_f9148_row2_col2\" class=\"data row2 col2\" >100%</td>\n",
       "                        <td id=\"T_f9148_row2_col3\" class=\"data row2 col3\" >9%</td>\n",
       "                        <td id=\"T_f9148_row2_col4\" class=\"data row2 col4\" >7%</td>\n",
       "            </tr>\n",
       "            <tr>\n",
       "                        <th id=\"T_f9148_level0_row3\" class=\"row_heading level0 row3\" >imd</th>\n",
       "                        <td id=\"T_f9148_row3_col0\" class=\"data row3 col0\" >24%</td>\n",
       "                        <td id=\"T_f9148_row3_col1\" class=\"data row3 col1\" >8%</td>\n",
       "                        <td id=\"T_f9148_row3_col2\" class=\"data row3 col2\" >9%</td>\n",
       "                        <td id=\"T_f9148_row3_col3\" class=\"data row3 col3\" >100%</td>\n",
       "                        <td id=\"T_f9148_row3_col4\" class=\"data row3 col4\" >9%</td>\n",
       "            </tr>\n",
       "            <tr>\n",
       "                        <th id=\"T_f9148_level0_row4\" class=\"row_heading level0 row4\" >ruc</th>\n",
       "                        <td id=\"T_f9148_row4_col0\" class=\"data row4 col0\" >16%</td>\n",
       "                        <td id=\"T_f9148_row4_col1\" class=\"data row4 col1\" >8%</td>\n",
       "                        <td id=\"T_f9148_row4_col2\" class=\"data row4 col2\" >7%</td>\n",
       "                        <td id=\"T_f9148_row4_col3\" class=\"data row4 col3\" >9%</td>\n",
       "                        <td id=\"T_f9148_row4_col4\" class=\"data row4 col4\" >100%</td>\n",
       "            </tr>\n",
       "    </tbody></table>"
      ],
      "text/plain": [
       "<pandas.io.formats.style.Styler at 0x7f2e393536d0>"
      ]
     },
     "execution_count": 4,
     "metadata": {},
     "output_type": "execute_result"
    }
   ],
   "source": [
    "df.pivot(index=\"measure_a\", columns=\"measure_b\", values=\"agreement\").style.format(percentage_0dp)"
   ]
  }
 ],
 "metadata": {
  "interpreter": {
   "hash": "949777d72b0d2535278d3dc13498b2535136f6dfe0678499012e853ee9abcab1"
  },
  "kernelspec": {
   "display_name": "Python 3.8.12 64-bit",
   "language": "python",
   "name": "python3"
  },
  "language_info": {
   "codemirror_mode": {
    "name": "ipython",
    "version": 3
   },
   "file_extension": ".py",
   "mimetype": "text/x-python",
   "name": "python",
   "nbconvert_exporter": "python",
   "pygments_lexer": "ipython3",
   "version": "3.8.12"
  },
  "orig_nbformat": 4
 },
 "nbformat": 4,
 "nbformat_minor": 2
}
