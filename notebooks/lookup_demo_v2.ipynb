{
 "cells": [
  {
   "cell_type": "code",
   "execution_count": 1,
   "metadata": {},
   "outputs": [],
   "source": [
    "# HIDE\n",
    "try:\n",
    "    import setup\n",
    "except:\n",
    "    pass\n",
    "from notebook_helper import *\n",
    "notebook_setup()\n",
    "\n",
    "from IPython.display import clear_output\n",
    "from ipywidgets import interactive\n",
    "from modules import la"
   ]
  },
  {
   "cell_type": "markdown",
   "metadata": {},
   "source": [
    "# Council emissions profile demo\n",
    "\n",
    "This notebook is a demo of v2 of the emissions profile and distance tool. This may take a few seconds to load."
   ]
  },
  {
   "cell_type": "code",
   "execution_count": 2,
   "metadata": {},
   "outputs": [
    {
     "data": {
      "application/vnd.jupyter.widget-view+json": {
       "model_id": "a2f275a15a0a48bb80678bafba40bda8",
       "version_major": 2,
       "version_minor": 0
      },
      "text/plain": [
       "interactive(children=(Dropdown(description='comparison_type', options=('Overall', 'Emissions', 'Nearby council…"
      ]
     },
     "metadata": {},
     "output_type": "display_data"
    }
   ],
   "source": [
    "def dmd(x): return display(md(x))\n",
    "\n",
    "\n",
    "options = {\"Overall\": \"composite\",\n",
    "           \"Emissions\": \"emissions\",\n",
    "           \"Nearby councils\": \"geographic_distance\",\n",
    "           \"Similar deprivation profile\": \"imd\",\n",
    "           \"Similar rural/urbal profile\": \"ruc\",\n",
    "           }\n",
    "\n",
    "\n",
    "dmd(\"Loading...\")\n",
    "\n",
    "la_df = pd.read_csv(Path(\"data\", \"la_details.csv\")).set_index(\"local-authority-code\")\n",
    "\n",
    "name_to_code = la_df.reset_index().common.to_map(\n",
    "    \"official-name\", \"local-authority-code\")\n",
    "\n",
    "\n",
    "class ComparisonDisplay:\n",
    "\n",
    "    def __init__(self, comparison_type: str):\n",
    "\n",
    "        folder = Path(\"data\", \"outputs\", comparison_type)\n",
    "\n",
    "        self.label_desc = pd.read_csv(folder / \"label_desc.csv\")\n",
    "        self.labels = pd.read_csv(folder / \"la_labels.csv\")\n",
    "        self.labels = self.labels.merge(\n",
    "            self.label_desc).set_index(\"local-authority-code\")\n",
    "        self.ldf = la_df.join(self.labels)\n",
    "        self.distance = (pd.read_csv(folder / \"distance_map.csv\")\n",
    "                         .loc[lambda x: x[\"position\"] < 11])\n",
    "\n",
    "    def matches_for_council(self, council_slug: str):\n",
    "        def mask(x): return x[\"local-authority-code_A\"] == council_slug\n",
    "        df = self.distance.loc[mask]\n",
    "        df = (df.drop(columns=[\"local-authority-code_A\"])\n",
    "              .set_index(\"local-authority-code_B\")\n",
    "              .join(self.ldf[[\"official-name\", \"label\"]]))\n",
    "\n",
    "        df = df.reset_index()[[\"official-name\", \"match\", \"label\"]]\n",
    "\n",
    "        return df\n",
    "\n",
    "def display_council(comparison_type: str, council_name: str):\n",
    "\n",
    "    comparison_slug = options[comparison_type]\n",
    "    council_slug = name_to_code[council_name]\n",
    "\n",
    "    c = ComparisonDisplay(comparison_slug)\n",
    "\n",
    "    details = c.ldf.loc[council_slug]\n",
    "    dmd(f'## {details[\"official-name\"]}')\n",
    "    dmd(f'**Type**: {details[\"local-authority-type-name\"]}')\n",
    "    dmd(f'**Cluster**: {details[\"label\"]}')\n",
    "    dmd(f'**Cluster description**: {details[\"desc\"]}')\n",
    "\n",
    "    dmd(\"### Nearest neighbours\")\n",
    "    df = c.matches_for_council(council_slug)\n",
    "    display(df)\n",
    "clear_output()\n",
    "interactive(display_council, comparison_type=options.keys(),\n",
    "            council_name=la_df[\"official-name\"].sort_values().tolist())\n"
   ]
  }
 ],
 "metadata": {
  "interpreter": {
   "hash": "4cd7ab41f5fca4b9b44701077e38c5ffd31fe66a6cab21e0214b68d958d0e462"
  },
  "kernelspec": {
   "display_name": "Python 3.8.11 64-bit",
   "name": "python3"
  },
  "language_info": {
   "codemirror_mode": {
    "name": "ipython",
    "version": 3
   },
   "file_extension": ".py",
   "mimetype": "text/x-python",
   "name": "python",
   "nbconvert_exporter": "python",
   "pygments_lexer": "ipython3",
   "version": "3.8.12"
  },
  "orig_nbformat": 4
 },
 "nbformat": 4,
 "nbformat_minor": 2
}
