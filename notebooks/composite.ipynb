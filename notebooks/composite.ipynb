{
 "cells": [
  {
   "cell_type": "code",
   "execution_count": 17,
   "metadata": {},
   "outputs": [],
   "source": [
    "#HIDE\n",
    "try:\n",
    "    import setup\n",
    "except:\n",
    "    pass\n",
    "from notebook_helper import *\n",
    "notebook_setup()\n",
    "from modules import la\n",
    "from functools import reduce\n",
    "from itertools import product\n"
   ]
  },
  {
   "cell_type": "markdown",
   "metadata": {},
   "source": [
    "# Composite distance dataset\n",
    "\n",
    "This notebook creates a new set of distance calculations based on all the individual distances.\n",
    "\n",
    "Rather than the average distance between two councils on different measures, the overall distance takes each different measure of distance as a different dimention, and calculcates the distance between the councils in the resulting multi-dimentional space. \n",
    "\n",
    "All measures are curretly assumed to be equal and are not adjusted to make any more important. As there is some overlap in results between them, in general this approach should push councils that are slightly similar on multiple approachs further up. Generally this composite measure has greater agreement with its components than any single measure does with the others. "
   ]
  },
  {
   "cell_type": "code",
   "execution_count": 18,
   "metadata": {},
   "outputs": [],
   "source": [
    "files = {\"geographic\": Path(\"data\", \"outputs\", \"geographic_distance\", \"complete_distance_map.csv\"),\n",
    "         \"emissions\": Path(\"data\", \"outputs\", \"emissions\", \"distance_map.csv\"), \n",
    "         \"imd\": Path(\"data\", \"outputs\", \"imd\", \"distance_map.csv\"),\n",
    "         \"ruc\": Path(\"data\", \"outputs\", \"ruc\", \"distance_map.csv\")}\n",
    "\n",
    "files = {x:pd.read_csv(y) for x,y in files.items()}"
   ]
  },
  {
   "cell_type": "code",
   "execution_count": 19,
   "metadata": {},
   "outputs": [
    {
     "data": {
      "text/html": [
       "<div>\n",
       "<style scoped>\n",
       "    .dataframe tbody tr th:only-of-type {\n",
       "        vertical-align: middle;\n",
       "    }\n",
       "\n",
       "    .dataframe tbody tr th {\n",
       "        vertical-align: top;\n",
       "    }\n",
       "\n",
       "    .dataframe thead th {\n",
       "        text-align: right;\n",
       "    }\n",
       "</style>\n",
       "<table border=\"1\" class=\"dataframe\">\n",
       "  <thead>\n",
       "    <tr style=\"text-align: right;\">\n",
       "      <th></th>\n",
       "      <th>local-authority-code_A</th>\n",
       "      <th>local-authority-code_B</th>\n",
       "      <th>distance</th>\n",
       "      <th>match</th>\n",
       "      <th>position</th>\n",
       "    </tr>\n",
       "  </thead>\n",
       "  <tbody>\n",
       "    <tr>\n",
       "      <th>0</th>\n",
       "      <td>ABC</td>\n",
       "      <td>MEA</td>\n",
       "      <td>1.99</td>\n",
       "      <td>79.2</td>\n",
       "      <td>1.0</td>\n",
       "    </tr>\n",
       "    <tr>\n",
       "      <th>1</th>\n",
       "      <td>ABC</td>\n",
       "      <td>ANN</td>\n",
       "      <td>2.37</td>\n",
       "      <td>75.3</td>\n",
       "      <td>2.0</td>\n",
       "    </tr>\n",
       "    <tr>\n",
       "      <th>2</th>\n",
       "      <td>ABC</td>\n",
       "      <td>NMD</td>\n",
       "      <td>2.54</td>\n",
       "      <td>73.5</td>\n",
       "      <td>3.0</td>\n",
       "    </tr>\n",
       "    <tr>\n",
       "      <th>3</th>\n",
       "      <td>ABC</td>\n",
       "      <td>CCG</td>\n",
       "      <td>3.04</td>\n",
       "      <td>68.3</td>\n",
       "      <td>4.0</td>\n",
       "    </tr>\n",
       "    <tr>\n",
       "      <th>4</th>\n",
       "      <td>ABC</td>\n",
       "      <td>MUL</td>\n",
       "      <td>3.08</td>\n",
       "      <td>67.9</td>\n",
       "      <td>5.0</td>\n",
       "    </tr>\n",
       "  </tbody>\n",
       "</table>\n",
       "</div>"
      ],
      "text/plain": [
       "  local-authority-code_A local-authority-code_B  distance  match  position\n",
       "0                    ABC                    MEA      1.99   79.2       1.0\n",
       "1                    ABC                    ANN      2.37   75.3       2.0\n",
       "2                    ABC                    NMD      2.54   73.5       3.0\n",
       "3                    ABC                    CCG      3.04   68.3       4.0\n",
       "4                    ABC                    MUL      3.08   67.9       5.0"
      ]
     },
     "execution_count": 19,
     "metadata": {},
     "output_type": "execute_result"
    }
   ],
   "source": [
    "df = (pd.DataFrame()\n",
    "      .space.join_distance(files)\n",
    "      .joint_space.composite_distance(normalize=False)\n",
    "      .space.match_distance()\n",
    "      .space.local_rankings())\n",
    "df.head()\n"
   ]
  },
  {
   "cell_type": "code",
   "execution_count": 20,
   "metadata": {},
   "outputs": [],
   "source": [
    "df.to_csv(Path(\"data\", \"outputs\", \"composite\", \"distance_map.csv\"), index=False)"
   ]
  },
  {
   "cell_type": "markdown",
   "metadata": {},
   "source": [
    "## Create composite labels"
   ]
  },
  {
   "cell_type": "code",
   "execution_count": 21,
   "metadata": {},
   "outputs": [
    {
     "data": {
      "text/html": [
       "<div>\n",
       "<style scoped>\n",
       "    .dataframe tbody tr th:only-of-type {\n",
       "        vertical-align: middle;\n",
       "    }\n",
       "\n",
       "    .dataframe tbody tr th {\n",
       "        vertical-align: top;\n",
       "    }\n",
       "\n",
       "    .dataframe thead th {\n",
       "        text-align: right;\n",
       "    }\n",
       "</style>\n",
       "<table border=\"1\" class=\"dataframe\">\n",
       "  <thead>\n",
       "    <tr style=\"text-align: right;\">\n",
       "      <th></th>\n",
       "      <th>local-authority-code</th>\n",
       "      <th>label</th>\n",
       "    </tr>\n",
       "  </thead>\n",
       "  <tbody>\n",
       "    <tr>\n",
       "      <th>0</th>\n",
       "      <td>ABC</td>\n",
       "      <td>Sparse and rural; Emissions: Industry/domestic...</td>\n",
       "    </tr>\n",
       "    <tr>\n",
       "      <th>1</th>\n",
       "      <td>ABD</td>\n",
       "      <td>Sparse and rural; Emissions: Industry/domestic...</td>\n",
       "    </tr>\n",
       "    <tr>\n",
       "      <th>2</th>\n",
       "      <td>ABE</td>\n",
       "      <td>Urban; Emissions: Public sector; 4th IMD quint...</td>\n",
       "    </tr>\n",
       "    <tr>\n",
       "      <th>3</th>\n",
       "      <td>ADU</td>\n",
       "      <td>Urban; Emissions: Urban mainstream; 4th IMD qu...</td>\n",
       "    </tr>\n",
       "    <tr>\n",
       "      <th>4</th>\n",
       "      <td>AGB</td>\n",
       "      <td>Sparse and rural; Emissions: Industry/domestic...</td>\n",
       "    </tr>\n",
       "  </tbody>\n",
       "</table>\n",
       "</div>"
      ],
      "text/plain": [
       "  local-authority-code                                              label\n",
       "0                  ABC  Sparse and rural; Emissions: Industry/domestic...\n",
       "1                  ABD  Sparse and rural; Emissions: Industry/domestic...\n",
       "2                  ABE  Urban; Emissions: Public sector; 4th IMD quint...\n",
       "3                  ADU  Urban; Emissions: Urban mainstream; 4th IMD qu...\n",
       "4                  AGB  Sparse and rural; Emissions: Industry/domestic..."
      ]
     },
     "execution_count": 21,
     "metadata": {},
     "output_type": "execute_result"
    }
   ],
   "source": [
    "files = {\"ruc\": Path(\"data\", \"outputs\", \"ruc\", \"la_labels.csv\"),\n",
    "         \"emissions\": Path(\"data\", \"outputs\", \"emissions\", \"la_labels.csv\"),\n",
    "         \"imd\": Path(\"data\", \"outputs\", \"imd\", \"la_labels.csv\"),\n",
    "        \"geographic\": Path(\"data\", \"outputs\", \"geographic_distance\", \"la_labels.csv\"),\n",
    "         }\n",
    "\n",
    "files = [pd.read_csv(y).set_index(\"local-authority-code\").rename(columns={\"label\":x}) for x,y in files.items()]\n",
    "\n",
    "df = reduce(pd.DataFrame.join, files)\n",
    "\n",
    "\n",
    "df[\"emissions\"] = \"Emissions: \" + df[\"emissions\"]\n",
    "\n",
    "def f(x):\n",
    "    return \"; \".join(x)\n",
    "\n",
    "ndf = df.apply(f ,axis=\"columns\").to_frame().rename(columns={0:\"label\"}).reset_index()\n",
    "ndf.head()"
   ]
  },
  {
   "cell_type": "code",
   "execution_count": 22,
   "metadata": {},
   "outputs": [],
   "source": [
    "ndf.to_csv(Path(\"data\", \"outputs\", \"composite\", \"la_labels.csv\"), index=False)"
   ]
  },
  {
   "cell_type": "markdown",
   "metadata": {},
   "source": [
    "## Make label descriptions\n",
    "\n",
    "Get all combinations of descriptions"
   ]
  },
  {
   "cell_type": "code",
   "execution_count": 23,
   "metadata": {},
   "outputs": [
    {
     "data": {
      "text/html": [
       "<div>\n",
       "<style scoped>\n",
       "    .dataframe tbody tr th:only-of-type {\n",
       "        vertical-align: middle;\n",
       "    }\n",
       "\n",
       "    .dataframe tbody tr th {\n",
       "        vertical-align: top;\n",
       "    }\n",
       "\n",
       "    .dataframe thead th {\n",
       "        text-align: right;\n",
       "    }\n",
       "</style>\n",
       "<table border=\"1\" class=\"dataframe\">\n",
       "  <thead>\n",
       "    <tr style=\"text-align: right;\">\n",
       "      <th></th>\n",
       "      <th>label</th>\n",
       "      <th>desc</th>\n",
       "    </tr>\n",
       "  </thead>\n",
       "  <tbody>\n",
       "    <tr>\n",
       "      <th>0</th>\n",
       "      <td>Sparse and rural; Emissions: Industry/domestic...</td>\n",
       "      <td>Local authority predominately made up of large...</td>\n",
       "    </tr>\n",
       "    <tr>\n",
       "      <th>1</th>\n",
       "      <td>Sparse and rural; Emissions: Industry/domestic...</td>\n",
       "      <td>Local authority predominately made up of large...</td>\n",
       "    </tr>\n",
       "    <tr>\n",
       "      <th>2</th>\n",
       "      <td>Sparse and rural; Emissions: Industry/domestic...</td>\n",
       "      <td>Local authority predominately made up of large...</td>\n",
       "    </tr>\n",
       "    <tr>\n",
       "      <th>3</th>\n",
       "      <td>Sparse and rural; Emissions: Industry/domestic...</td>\n",
       "      <td>Local authority predominately made up of large...</td>\n",
       "    </tr>\n",
       "    <tr>\n",
       "      <th>4</th>\n",
       "      <td>Sparse and rural; Emissions: Industry/domestic...</td>\n",
       "      <td>Local authority predominately made up of large...</td>\n",
       "    </tr>\n",
       "  </tbody>\n",
       "</table>\n",
       "</div>"
      ],
      "text/plain": [
       "                                               label  \\\n",
       "0  Sparse and rural; Emissions: Industry/domestic...   \n",
       "1  Sparse and rural; Emissions: Industry/domestic...   \n",
       "2  Sparse and rural; Emissions: Industry/domestic...   \n",
       "3  Sparse and rural; Emissions: Industry/domestic...   \n",
       "4  Sparse and rural; Emissions: Industry/domestic...   \n",
       "\n",
       "                                                desc  \n",
       "0  Local authority predominately made up of large...  \n",
       "1  Local authority predominately made up of large...  \n",
       "2  Local authority predominately made up of large...  \n",
       "3  Local authority predominately made up of large...  \n",
       "4  Local authority predominately made up of large...  "
      ]
     },
     "execution_count": 23,
     "metadata": {},
     "output_type": "execute_result"
    }
   ],
   "source": [
    "files = {\"ruc\": Path(\"data\", \"outputs\", \"ruc\", \"label_desc.csv\"),\n",
    "         \"emissions\": Path(\"data\", \"outputs\", \"emissions\", \"label_desc.csv\"),\n",
    "         \"imd\": Path(\"data\", \"outputs\", \"imd\", \"label_desc.csv\"),\n",
    "        \"geographic\": Path(\"data\", \"outputs\", \"geographic_distance\", \"label_desc.csv\"),\n",
    "         }\n",
    "\n",
    "files = {x:pd.read_csv(y) for x,y in files.items()}\n",
    "\n",
    "files[\"emissions\"][\"label\"] = \"Emissions: \" + files[\"emissions\"][\"label\"]\n",
    "\n",
    "files[\"geographic\"][\"desc\"] = None\n",
    "\n",
    "labels = [x[\"label\"].tolist() for x in files.values()]\n",
    "descriptions = [x[\"desc\"].tolist() for x in files.values()]\n",
    "\n",
    "labels = pd.Series(product(*labels)).apply(lambda x: \"; \".join(x))\n",
    "\n",
    "def process_description(descriptions: List[str]) -> str:\n",
    "    value = \"; \".join([x for x in descriptions if x])\n",
    "    value = value.replace(\"Councils \", \"\")\n",
    "    return value\n",
    "\n",
    "descriptions = pd.Series(product(*descriptions)).apply(process_description)\n",
    "\n",
    "df = pd.DataFrame({\"label\": labels, \"desc\": descriptions})\n",
    "df.head()\n"
   ]
  },
  {
   "cell_type": "code",
   "execution_count": 24,
   "metadata": {},
   "outputs": [],
   "source": [
    "df.to_csv(Path(\"data\", \"outputs\", \"composite\", \"label_desc.csv\"), index=False)"
   ]
  }
 ],
 "metadata": {
  "interpreter": {
   "hash": "949777d72b0d2535278d3dc13498b2535136f6dfe0678499012e853ee9abcab1"
  },
  "kernelspec": {
   "display_name": "Python 3.8.12 64-bit",
   "language": "python",
   "name": "python3"
  },
  "language_info": {
   "codemirror_mode": {
    "name": "ipython",
    "version": 3
   },
   "file_extension": ".py",
   "mimetype": "text/x-python",
   "name": "python",
   "nbconvert_exporter": "python",
   "pygments_lexer": "ipython3",
   "version": "3.8.12"
  },
  "orig_nbformat": 4
 },
 "nbformat": 4,
 "nbformat_minor": 2
}
