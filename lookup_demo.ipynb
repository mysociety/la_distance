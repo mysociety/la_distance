{
 "cells": [
  {
   "cell_type": "code",
   "execution_count": 1,
   "source": [
    "from notebook_helper import *\r\n",
    "from helpers import la\r\n",
    "from ipywidgets import interactive"
   ],
   "outputs": [],
   "metadata": {}
  },
  {
   "cell_type": "markdown",
   "source": [
    "# Council emissions profile demo\n",
    "\n",
    "This notebook is a quick demo of v1 of the emissions profile and distance tool."
   ],
   "metadata": {}
  },
  {
   "cell_type": "code",
   "execution_count": 4,
   "source": [
    "dmd = lambda x: display(md(x))\r\n",
    "\r\n",
    "# prepare decile guide\r\n",
    "cdf = pd.read_csv(Path(\"data\", \"outputs\", \"council_clusters_v1.csv\"))\r\n",
    "cdf = cdf.la.get_council_info([\"pop_2020\"]).set_index(\r\n",
    "    \"local-authority-code\")\r\n",
    "\r\n",
    "for c in cdf.columns:\r\n",
    "    if \"Total\" in c:\r\n",
    "        name = \" \".join(c.split(\" \")[:-1]) +\" Emissions Decile\"\r\n",
    "        per_capita = cdf[c] / cdf[\"pop_2020\"]\r\n",
    "        cdf[name] = pd.qcut(per_capita, 10,\r\n",
    "                                    labels=range(1, 11), duplicates=\"drop\")\r\n",
    "\r\n",
    "ddf = pd.read_csv(Path(\"data\", \"outputs\", \"council_clusters_v1_distance.csv\")) #\"council_clusters_v1_distance.csv\"\r\n",
    "\r\n",
    "\r\n",
    "def standardise_distance(df):\r\n",
    "    df = df.copy()\r\n",
    "    # use tenth from last because the last point might be an extreme outlier (in this case london)\r\n",
    "    tenth_from_last_score = df[\"distance\"].sort_values().tail(10).iloc[0]\r\n",
    "    df[\"match\"] = 1 - (df[\"distance\"] / tenth_from_last_score)\r\n",
    "    df[\"match\"] = df[\"match\"].round(3) * 100\r\n",
    "    df = df.sort_values(\"match\", ascending=False)\r\n",
    "    df = df.drop(columns=\"local-authority-code_A\")\r\n",
    "    return df\r\n",
    "\r\n",
    "ddf = ddf.groupby(\"local-authority-code_A\").apply(standardise_distance)\r\n",
    "\r\n",
    "def display_council(council_slug):\r\n",
    "    wanted_columns = [\"official-name\", \"match\",\r\n",
    "                    \"local-authority-type-name\", \"label\"]\r\n",
    "\r\n",
    "    matches = ddf.loc[council_slug].sort_values(\"match\", ascending=False).head(10)\r\n",
    "    matches = matches.set_index(\"local-authority-code_B\").join(cdf).reset_index()\r\n",
    "    matches = matches[wanted_columns]\r\n",
    "\r\n",
    "    details = cdf.loc[council_slug].to_dict()\r\n",
    "\r\n",
    "    dmd(f'## {details[\"official-name\"]}')\r\n",
    "    dmd(f'**Type**: {details[\"local-authority-type-name\"]}')\r\n",
    "    dmd(f'**Cluster**: {details[\"label\"]} - {details[\"label_desc\"]}')\r\n",
    "\r\n",
    "    deciles = cdf.loc[cdf.index == council_slug][[x for x in cdf.columns if \"Decile\" in x]]\r\n",
    "    deciles = deciles.transpose().rename(columns={council_slug:\"Decile\"})\r\n",
    "    dmd(\"### Decile profiles\")\r\n",
    "    dmd(\"Decile 10 is the highest emissions, decile 1 is the lowest.\")\r\n",
    "\r\n",
    "    display(deciles)\r\n",
    "\r\n",
    "    dmd(\"### Nearest neighbours\")\r\n",
    "    display(matches)\r\n",
    "\r\n",
    "lookup = cdf.reset_index().set_index(\"official-name\")[\"local-authority-code\"].to_dict()\r\n",
    "\r\n",
    "interactive(lambda council_slug: display_council(lookup[council_slug]), council_slug=list(cdf[\"official-name\"].sort_values()))"
   ],
   "outputs": [
    {
     "output_type": "display_data",
     "data": {
      "text/plain": [
       "interactive(children=(Dropdown(description='council_slug', options=('Aberdeen City Council', 'Aberdeenshire Co…"
      ],
      "application/vnd.jupyter.widget-view+json": {
       "version_major": 2,
       "version_minor": 0,
       "model_id": "6516da112217451594ce9a9c059e24cb"
      }
     },
     "metadata": {}
    }
   ],
   "metadata": {}
  }
 ],
 "metadata": {
  "orig_nbformat": 4,
  "language_info": {
   "name": "python",
   "version": "3.8.11",
   "mimetype": "text/x-python",
   "codemirror_mode": {
    "name": "ipython",
    "version": 3
   },
   "pygments_lexer": "ipython3",
   "nbconvert_exporter": "python",
   "file_extension": ".py"
  },
  "kernelspec": {
   "name": "python3",
   "display_name": "Python 3.8.11 64-bit"
  },
  "interpreter": {
   "hash": "4cd7ab41f5fca4b9b44701077e38c5ffd31fe66a6cab21e0214b68d958d0e462"
  }
 },
 "nbformat": 4,
 "nbformat_minor": 2
}