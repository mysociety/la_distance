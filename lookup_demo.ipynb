{
 "cells": [
  {
   "cell_type": "code",
   "execution_count": 2,
   "source": [
    "from notebook_helper import *\n",
    "from helpers import la\n",
    "from ipywidgets import interactive"
   ],
   "outputs": [],
   "metadata": {}
  },
  {
   "cell_type": "markdown",
   "source": [
    "# Council emissions profile demo\n",
    "\n",
    "This notebook is a quick demo of v1 of the emissions profile and distance tool."
   ],
   "metadata": {}
  },
  {
   "cell_type": "code",
   "execution_count": 3,
   "source": [
    "dmd = lambda x: display(md(x))\n",
    "\n",
    "dmd(\"Loading...\")\n",
    "\n",
    "\n",
    "# prepare decile guide\n",
    "cdf = pd.read_csv(Path(\"data\", \"outputs\", \"council_clusters_v1.csv\"))\n",
    "cdf = cdf.la.get_council_info([\"pop_2020\"]).set_index(\n",
    "    \"local-authority-code\")\n",
    "\n",
    "for c in cdf.columns:\n",
    "    if \"Total\" in c:\n",
    "        name = \" \".join(c.split(\" \")[:-1]) +\" Emissions Decile\"\n",
    "        per_capita = cdf[c] / cdf[\"pop_2020\"]\n",
    "        cdf[name] = pd.qcut(per_capita, 10,\n",
    "                                    labels=range(1, 11), duplicates=\"drop\")\n",
    "\n",
    "ddf = pd.read_csv(Path(\"data\", \"outputs\", \"council_clusters_v1_distance.csv\")) #\"council_clusters_v1_distance.csv\"\n",
    "\n",
    "\n",
    "def standardise_distance(df):\n",
    "    df = df.copy()\n",
    "    # use tenth from last because the last point might be an extreme outlier (in this case london)\n",
    "    tenth_from_last_score = df[\"distance\"].sort_values().tail(10).iloc[0]\n",
    "    df[\"match\"] = 1 - (df[\"distance\"] / tenth_from_last_score)\n",
    "    df[\"match\"] = df[\"match\"].round(3) * 100\n",
    "    df = df.sort_values(\"match\", ascending=False)\n",
    "    df = df.drop(columns=\"local-authority-code_A\")\n",
    "    return df\n",
    "\n",
    "ddf = ddf.groupby(\"local-authority-code_A\").apply(standardise_distance)\n",
    "\n",
    "def display_council(council_slug):\n",
    "    wanted_columns = [\"official-name\", \"match\",\n",
    "                    \"local-authority-type-name\", \"label\"]\n",
    "\n",
    "    matches = ddf.loc[council_slug].sort_values(\"match\", ascending=False).head(10)\n",
    "    matches = matches.set_index(\"local-authority-code_B\").join(cdf).reset_index()\n",
    "    matches = matches[wanted_columns]\n",
    "\n",
    "    details = cdf.loc[council_slug].to_dict()\n",
    "\n",
    "    dmd(f'## {details[\"official-name\"]}')\n",
    "    dmd(f'**Type**: {details[\"local-authority-type-name\"]}')\n",
    "    dmd(f'**Cluster**: {details[\"label\"]} - {details[\"label_desc\"]}')\n",
    "\n",
    "    deciles = cdf.loc[cdf.index == council_slug][[x for x in cdf.columns if \"Decile\" in x]]\n",
    "    deciles = deciles.transpose().rename(columns={council_slug:\"Decile\"})\n",
    "    dmd(\"### Decile profiles\")\n",
    "    dmd(\"Decile 10 is the highest emissions, decile 1 is the lowest.\")\n",
    "\n",
    "    display(deciles)\n",
    "\n",
    "    dmd(\"### Nearest neighbours\")\n",
    "    display(matches)\n",
    "\n",
    "lookup = cdf.reset_index().set_index(\"official-name\")[\"local-authority-code\"].to_dict()\n",
    "\n",
    "interactive(lambda council_slug: display_council(lookup[council_slug]), council_slug=list(cdf[\"official-name\"].sort_values()))"
   ],
   "outputs": [],
   "metadata": {}
  }
 ],
 "metadata": {
  "orig_nbformat": 4,
  "language_info": {
   "name": "python",
   "version": "3.8.11",
   "mimetype": "text/x-python",
   "codemirror_mode": {
    "name": "ipython",
    "version": 3
   },
   "pygments_lexer": "ipython3",
   "nbconvert_exporter": "python",
   "file_extension": ".py"
  },
  "kernelspec": {
   "name": "python3",
   "display_name": "Python 3.8.11 64-bit"
  },
  "interpreter": {
   "hash": "4cd7ab41f5fca4b9b44701077e38c5ffd31fe66a6cab21e0214b68d958d0e462"
  }
 },
 "nbformat": 4,
 "nbformat_minor": 2
}