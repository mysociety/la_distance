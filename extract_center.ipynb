{
 "cells": [
  {
   "cell_type": "code",
   "execution_count": 2,
   "source": [
    "from notebook_helper import *\n",
    "import geopandas\n",
    "from helpers import la\n",
    "notebook_setup()"
   ],
   "outputs": [],
   "metadata": {}
  },
  {
   "cell_type": "markdown",
   "source": [
    "# Center points\n",
    "\n",
    "This notebook extracts the center points of local authorities from shapefiles and creates the center points for higher level authorities."
   ],
   "metadata": {}
  },
  {
   "cell_type": "code",
   "execution_count": 3,
   "source": [
    "# load local authorities\n",
    "\n",
    "epsg = 7405 # british national grid\n",
    "\n",
    "gdf = geopandas.read_file(Path(\"data\", \"geo\", \"gb\", \"district_borough_unitary_region.shp\")).to_crs(epsg=epsg)\n",
    "gdf = gdf[[\"CODE\", \"geometry\"]]\n",
    "ni = geopandas.read_file(Path(\"data\", \"geo\", \"ni\", \"OSNI_Open_Data_Largescale_Boundaries__Local_Government_Districts_2012.shp\")).to_crs(epsg=epsg)\n",
    "ni = ni[[\"LGDCode\", \"geometry\"]].rename(columns={\"LGDCode\": \"CODE\"})\n",
    "gdf = pd.concat([gdf, ni])\n",
    "gdf[\"x\"] = gdf[\"geometry\"].centroid.x\n",
    "gdf[\"y\"] = gdf[\"geometry\"].centroid.y"
   ],
   "outputs": [],
   "metadata": {}
  },
  {
   "cell_type": "code",
   "execution_count": 4,
   "source": [
    "gdf = gdf.la.create_code_column(from_type=\"gss\")"
   ],
   "outputs": [],
   "metadata": {}
  },
  {
   "cell_type": "code",
   "execution_count": 5,
   "source": [
    "def group_to_current(df, columns: Optional[List[str]] = None, aggfunc=\"mean\") -> pd.DataFrame:\n",
    "    if columns is None:\n",
    "        columns = list(df.columns)\n",
    "    df = df.la.get_council_info([\"replaced_by\"], include_historical=True,)\n",
    "    df[\"current-code\"] = np.where(df[\"replaced_by\"].isna(),\n",
    "                                  df[\"local-authority-code\"], df[\"replaced_by\"])\n",
    "    return (df[[\"current-code\"] + columns].groupby(\"current-code\")\n",
    "            .agg(aggfunc)\n",
    "            .rename_axis(index=\"local-authority-code\")\n",
    "            .reset_index())\n",
    "\n",
    "\n",
    "def group_to_higher_level(df, columns: Optional[List[str]] = None, aggfunc=\"mean\") -> pd.DataFrame:\n",
    "    if columns is None:\n",
    "        columns = list(df.columns)\n",
    "    df = df.la.get_council_info([\"overlapping-la\"], include_historical=True)\n",
    "    return (df[[\"overlapping-la\"] + columns].groupby(\"overlapping-la\")\n",
    "            .agg(aggfunc)\n",
    "            .rename_axis(index=\"local-authority-code\")\n",
    "            .reset_index())\n",
    "\n",
    "\n",
    "def group_to_current_and_higher(*args, **kwargs) -> pd.DataFrame:\n",
    "    df1 = group_to_current(*args, **kwargs)\n",
    "    df2 = group_to_higher_level(*args, **kwargs)\n",
    "    return pd.concat([df1, df2])\n",
    "\n",
    "df = group_to_current_and_higher(gdf, [\"x\", \"y\"])\n",
    "\n",
    "df = geopandas.GeoDataFrame(df, geometry=geopandas.points_from_xy(df.x, df.y), crs=epsg).to_crs(\"WGS84\")\n",
    "\n",
    "df[\"long\"] = df[\"geometry\"].y\n",
    "df[\"lat\"] = df[\"geometry\"].x\n",
    "df.drop(columns='geometry').to_csv(Path(\"data\",\"la_xy.csv\"), index=False)\n"
   ],
   "outputs": [],
   "metadata": {}
  },
  {
   "cell_type": "code",
   "execution_count": 6,
   "source": [
    "df = pd.read_csv(Path(\"data\", \"pop_area_2021.csv\"), thousands=r',')\n",
    "df[\"gss-code\"] = df[\"gss-code\"].apply(lambda x: x[:9])\n",
    "df = df.la.create_code_column(from_type=\"gss\", source_col=\"gss-code\", allow_none=True)\n",
    "\n",
    "\n",
    "df = df.loc[~(df[\"local-authority-code\"].isna())]\n",
    "\n",
    "hdf = group_to_higher_level(df, [\"area\", \"pop_2020\"], aggfunc=\"sum\")\n",
    "\n",
    "df = df[[\"local-authority-code\", \"area\", \"pop_2020\"]]\n",
    "df = pd.concat([df, hdf]).drop_duplicates(\"local-authority-code\")\n",
    "df.to_csv(Path(\"data\",\"la_area_pop.csv\"), index=False)"
   ],
   "outputs": [],
   "metadata": {}
  }
 ],
 "metadata": {
  "orig_nbformat": 4,
  "language_info": {
   "name": "python",
   "version": "3.8.11",
   "mimetype": "text/x-python",
   "codemirror_mode": {
    "name": "ipython",
    "version": 3
   },
   "pygments_lexer": "ipython3",
   "nbconvert_exporter": "python",
   "file_extension": ".py"
  },
  "kernelspec": {
   "name": "python3",
   "display_name": "Python 3.8.11 64-bit"
  },
  "interpreter": {
   "hash": "4cd7ab41f5fca4b9b44701077e38c5ffd31fe66a6cab21e0214b68d958d0e462"
  }
 },
 "nbformat": 4,
 "nbformat_minor": 2
}